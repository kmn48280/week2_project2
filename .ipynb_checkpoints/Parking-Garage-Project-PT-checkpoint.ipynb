{
 "cells": [
  {
   "cell_type": "markdown",
   "metadata": {},
   "source": [
    "# Parking Garage Project\n",
    "\n",
    "Your assignment for today is to create a parking garage class to get more familiar with Object Oriented Programming(OOP). \n",
    "\n",
    "Your parking gargage class should have the following methods:\n",
    "- takeTicket\n",
    "   - This should decrease the amount of tickets available by 1\n",
    "   - This should decrease the amount of parkingSpaces available by 1\n",
    "- payForParking\n",
    "   - Display an input that waits for an amount from the user and store it in a variable\n",
    "   - If the payment variable is not empty then ->  display a message to the user that their ticket has been paid and they have 15mins to leave\n",
    "   - This should update the \"currentTicket\" dictionary key \"paid\" to True\n",
    "- leaveGarage\n",
    "   - If the ticket has been paid, display a message of \"Thank You, have a nice day\"\n",
    "   - If the ticket has not been paid, display an input prompt for payment\n",
    "      - Once paid, display message \"Thank you, have a nice day!\"\n",
    "   - Update parkingSpaces list to increase by 1\n",
    "   - Update tickets list to increase by 1\n",
    "\n",
    "You will need a few attributes as well:\n",
    "- tickets -> list\n",
    "- parkingSpaces -> list\n",
    "- currentTicket -> dictionary"
   ]
  },
  {
   "cell_type": "code",
   "execution_count": 13,
   "metadata": {},
   "outputs": [
    {
     "name": "stdout",
     "output_type": "stream",
     "text": [
      "5\n",
      "Please take a ticket \n",
      "[4]\n",
      "[4]\n",
      "{'A': 'not paid', 'B': 'not paid', 'C': 'not paid'}\n",
      "Please input ticket ID: A, B, or C \n",
      "A\n",
      "Thank you have a nice day! \n",
      "[5]\n",
      "[5]\n",
      "{'B': 'not paid', 'C': 'not paid'}\n"
     ]
    }
   ],
   "source": [
    "tickets =[5]\n",
    "parking_spaces = [5]\n",
    "current_tickets = {\n",
    "\n",
    "    \n",
    "}\n",
    "\n",
    "class Garage():\n",
    "    def __init__(self, ticket, parking_space, current_ticket):\n",
    "        self.tickets = ticket\n",
    "        self.parking_space = parking_space\n",
    "        self.current_ticket = current_ticket\n",
    "        \n",
    "    def take_tickets(self):\n",
    "        print('Please take a ticket ')\n",
    "        for n in range(len(tickets)):\n",
    "            tickets[n] = tickets[n] -1\n",
    "        for i in range(len(parking_spaces)):\n",
    "            parking_spaces[i] = parking_spaces[i] -1      \n",
    "        current_tickets['A'] = 'not paid'\n",
    "        current_tickets['B'] = 'not paid'\n",
    "        current_tickets['C'] = 'not paid'\n",
    "        \n",
    "    def pay(ticket):\n",
    "        ticket_id = input('Please input ticket ID: A, B, or C ' + '\\n')\n",
    "        if ticket_id == 'A':\n",
    "            print('Please pay $5.00')\n",
    "        if ticket_id == 'B':\n",
    "            print('Please pay $10.00')\n",
    "        if ticket_id == 'C':\n",
    "            print('Please pay $20.00')\n",
    "    \n",
    "    def leave(ticket):  \n",
    "        ticket_id = input('Please input ticket ID: A, B, or C ' + '\\n')\n",
    "        current_tickets['A'] = 'paid'\n",
    "        if current_tickets['A'] == 'paid':\n",
    "            print('Thank you have a nice day! ')\n",
    "        for n in range(len(tickets)):\n",
    "            tickets[n] = tickets[n] +1\n",
    "        for i in range(len(parking_spaces)):\n",
    "            parking_spaces[i] = parking_spaces[i] +1  \n",
    "        del current_tickets['A']\n",
    "\n",
    "my_garage =Garage(5, 5, 0)\n",
    "print(my_garage.tickets)\n",
    "\n",
    "my_garage.take_tickets()\n",
    "print(tickets)\n",
    "print(parking_spaces)\n",
    "print(current_tickets)\n",
    "\n",
    "my_garage.leave()\n",
    "print(tickets)\n",
    "print(parking_spaces)\n",
    "print(current_tickets)\n",
    "\n",
    "\n",
    "\n",
    "   \n",
    "        \n"
   ]
  },
  {
   "cell_type": "code",
   "execution_count": null,
   "metadata": {},
   "outputs": [],
   "source": []
  }
 ],
 "metadata": {
  "kernelspec": {
   "display_name": "Python 3 (ipykernel)",
   "language": "python",
   "name": "python3"
  },
  "language_info": {
   "codemirror_mode": {
    "name": "ipython",
    "version": 3
   },
   "file_extension": ".py",
   "mimetype": "text/x-python",
   "name": "python",
   "nbconvert_exporter": "python",
   "pygments_lexer": "ipython3",
   "version": "3.9.7"
  }
 },
 "nbformat": 4,
 "nbformat_minor": 2
}
